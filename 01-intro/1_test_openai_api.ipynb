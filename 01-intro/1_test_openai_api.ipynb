{
 "cells": [
  {
   "cell_type": "code",
   "execution_count": 6,
   "id": "136de1bf-78b8-4f4f-b455-fa7aca70b858",
   "metadata": {},
   "outputs": [],
   "source": [
    "from openai import OpenAI"
   ]
  },
  {
   "cell_type": "code",
   "execution_count": 7,
   "id": "a2fd613c-00e9-4131-a5f5-0751aa285b19",
   "metadata": {},
   "outputs": [],
   "source": [
    "client = OpenAI()"
   ]
  },
  {
   "cell_type": "code",
   "execution_count": 11,
   "id": "bf4633cf-2342-4595-b519-b83faabcbdcb",
   "metadata": {},
   "outputs": [],
   "source": [
    "response = client.chat.completions.create(\n",
    "    model='gpt-4o',\n",
    "    messages=[{\"role\": \"user\",\n",
    "              \"content\": \"Is it too late to join the course?\"}]\n",
    ")"
   ]
  },
  {
   "cell_type": "code",
   "execution_count": 12,
   "id": "708261a8-fe22-4268-9a00-b1166e2b1dda",
   "metadata": {},
   "outputs": [
    {
     "data": {
      "text/plain": [
       "ChatCompletion(id='chatcmpl-9aMJodOjxrikn6AgAPfSlU3HsltvK', choices=[Choice(finish_reason='stop', index=0, logprobs=None, message=ChatCompletionMessage(content=\"It's not too late to join a course most of the time, but this can depend on several factors, such as the specific course, the institution offering it, the time of year, and how much of the course has already been completed.\\n\\nHere are some things you can do:\\n\\n1. **Check the Enrollment Deadline**: Look at the course or institution's website to find the enrollment deadline. Sometimes courses have late enrollment periods.\\n\\n2. **Contact the Instructor or Institution**: Get in touch with the course instructor or the administrative office. They might allow late enrollment or offer advice on how to catch up.\\n\\n3. **Consider the Course Format**: Some online courses or self-paced programs have more flexible start dates compared to traditional in-person classes.\\n\\n4. **Assess Your Own Capacity**: Consider whether you'll be able to catch up if some lectures or assignments have already been missed. Evaluate whether you're prepared to put in additional effort to catch up.\\n\\n5. **Alternative Options**: If the course is already too far along, ask about future enrollment opportunities or if there are similar courses available.\\n\\nIf you provide more specific information about the course or institution, I might be able to offer more tailored advice.\", role='assistant', function_call=None, tool_calls=None))], created=1718452628, model='gpt-4o-2024-05-13', object='chat.completion', system_fingerprint='fp_f4e629d0a5', usage=CompletionUsage(completion_tokens=241, prompt_tokens=16, total_tokens=257))"
      ]
     },
     "execution_count": 12,
     "metadata": {},
     "output_type": "execute_result"
    }
   ],
   "source": [
    "response"
   ]
  },
  {
   "cell_type": "code",
   "execution_count": 18,
   "id": "7e134bef-fb58-4df3-887a-28fa6cfcb4e8",
   "metadata": {},
   "outputs": [
    {
     "data": {
      "text/markdown": [
       "It's not too late to join a course most of the time, but this can depend on several factors, such as the specific course, the institution offering it, the time of year, and how much of the course has already been completed.\n",
       "\n",
       "Here are some things you can do:\n",
       "\n",
       "1. **Check the Enrollment Deadline**: Look at the course or institution's website to find the enrollment deadline. Sometimes courses have late enrollment periods.\n",
       "\n",
       "2. **Contact the Instructor or Institution**: Get in touch with the course instructor or the administrative office. They might allow late enrollment or offer advice on how to catch up.\n",
       "\n",
       "3. **Consider the Course Format**: Some online courses or self-paced programs have more flexible start dates compared to traditional in-person classes.\n",
       "\n",
       "4. **Assess Your Own Capacity**: Consider whether you'll be able to catch up if some lectures or assignments have already been missed. Evaluate whether you're prepared to put in additional effort to catch up.\n",
       "\n",
       "5. **Alternative Options**: If the course is already too far along, ask about future enrollment opportunities or if there are similar courses available.\n",
       "\n",
       "If you provide more specific information about the course or institution, I might be able to offer more tailored advice."
      ],
      "text/plain": [
       "<IPython.core.display.Markdown object>"
      ]
     },
     "metadata": {},
     "output_type": "display_data"
    }
   ],
   "source": [
    "from IPython.display import display, Markdown\n",
    "\n",
    "display(Markdown(response.choices[0].message.content))"
   ]
  },
  {
   "cell_type": "code",
   "execution_count": null,
   "id": "206afc45-92ee-420b-bee5-6049ec6b4392",
   "metadata": {},
   "outputs": [],
   "source": []
  }
 ],
 "metadata": {
  "kernelspec": {
   "display_name": "Python 3 (ipykernel)",
   "language": "python",
   "name": "python3"
  },
  "language_info": {
   "codemirror_mode": {
    "name": "ipython",
    "version": 3
   },
   "file_extension": ".py",
   "mimetype": "text/x-python",
   "name": "python",
   "nbconvert_exporter": "python",
   "pygments_lexer": "ipython3",
   "version": "3.10.13"
  }
 },
 "nbformat": 4,
 "nbformat_minor": 5
}
